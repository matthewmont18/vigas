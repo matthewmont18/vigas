{
 "cells": [
  {
   "cell_type": "code",
   "execution_count": 1,
   "id": "27e5f38f-0bdc-444e-9c7d-1d9a88e0a429",
   "metadata": {
    "tags": []
   },
   "outputs": [
    {
     "name": "stdout",
     "output_type": "stream",
     "text": [
      "Requirement already satisfied: openseespy in c:\\users\\mateo\\anaconda3\\lib\\site-packages (3.5.1.12)\n",
      "Requirement already satisfied: openseespywin>=3.5.1.12 in c:\\users\\mateo\\anaconda3\\lib\\site-packages (from openseespy) (3.5.1.12)\n",
      "Note: you may need to restart the kernel to use updated packages.\n"
     ]
    }
   ],
   "source": [
    "pip install openseespy"
   ]
  },
  {
   "cell_type": "code",
   "execution_count": null,
   "id": "720a9556-c7e8-454a-8eb2-9037aa24fdc0",
   "metadata": {},
   "outputs": [],
   "source": []
  }
 ],
 "metadata": {
  "kernelspec": {
   "display_name": "Python 3 (ipykernel)",
   "language": "python",
   "name": "python3"
  },
  "language_info": {
   "codemirror_mode": {
    "name": "ipython",
    "version": 3
   },
   "file_extension": ".py",
   "mimetype": "text/x-python",
   "name": "python",
   "nbconvert_exporter": "python",
   "pygments_lexer": "ipython3",
   "version": "3.11.5"
  }
 },
 "nbformat": 4,
 "nbformat_minor": 5
}
